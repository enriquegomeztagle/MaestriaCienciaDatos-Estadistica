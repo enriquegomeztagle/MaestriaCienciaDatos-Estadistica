{
 "cells": [
  {
   "cell_type": "code",
   "execution_count": 1,
   "metadata": {},
   "outputs": [],
   "source": [
    "import numpy as np\n",
    "from scipy.stats import norm"
   ]
  },
  {
   "cell_type": "code",
   "execution_count": 2,
   "metadata": {},
   "outputs": [],
   "source": [
    "\n",
    "# Paso 1: Parámetros de la distribución uniforme\n",
    "a, b = 0, 1\n",
    "mu = (a + b) / 2\n",
    "var = ((b - a) ** 2) / 12"
   ]
  },
  {
   "cell_type": "code",
   "execution_count": 3,
   "metadata": {},
   "outputs": [],
   "source": [
    "\n",
    "# Paso 2: Tamaño de la muestra\n",
    "n = 75"
   ]
  },
  {
   "cell_type": "code",
   "execution_count": 4,
   "metadata": {},
   "outputs": [],
   "source": [
    "# Media y desviación estándar de la media muestral\n",
    "mu_muestra = mu\n",
    "sigma_muestra = np.sqrt(var / n)"
   ]
  },
  {
   "cell_type": "code",
   "execution_count": 5,
   "metadata": {},
   "outputs": [],
   "source": [
    "# Paso 3: Límites de la probabilidad\n",
    "x1, x2 = 0.45, 0.55"
   ]
  },
  {
   "cell_type": "code",
   "execution_count": 6,
   "metadata": {},
   "outputs": [],
   "source": [
    "# Convertimos a valores Z\n",
    "z1 = (x1 - mu_muestra) / sigma_muestra\n",
    "z2 = (x2 - mu_muestra) / sigma_muestra"
   ]
  },
  {
   "cell_type": "code",
   "execution_count": 7,
   "metadata": {},
   "outputs": [],
   "source": [
    "# Paso 4: Probabilidad usando la normal estándar\n",
    "p = norm.cdf(z2) - norm.cdf(z1)"
   ]
  },
  {
   "cell_type": "code",
   "execution_count": 8,
   "metadata": {},
   "outputs": [
    {
     "name": "stdout",
     "output_type": "stream",
     "text": [
      "Media poblacional (μ): 0.5\n",
      "Varianza poblacional: 0.08333333333333333\n",
      "Desviación estándar de la media muestral: 0.03333333333333333\n",
      "Z1 = -1.50, Z2 = 1.50\n",
      "P(0.45 <= X̄ <= 0.55) ≈ 0.8664\n"
     ]
    }
   ],
   "source": [
    "# Imprimir resultados\n",
    "print(f\"Media poblacional (μ): {mu}\")\n",
    "print(f\"Varianza poblacional: {var}\")\n",
    "print(f\"Desviación estándar de la media muestral: {sigma_muestra}\")\n",
    "print(f\"Z1 = {z1:.2f}, Z2 = {z2:.2f}\")\n",
    "print(f\"P({x1} <= X̄ <= {x2}) ≈ {p:.4f}\")"
   ]
  },
  {
   "cell_type": "code",
   "execution_count": null,
   "metadata": {},
   "outputs": [],
   "source": []
  }
 ],
 "metadata": {
  "kernelspec": {
   "display_name": "AWS",
   "language": "python",
   "name": "python3"
  },
  "language_info": {
   "codemirror_mode": {
    "name": "ipython",
    "version": 3
   },
   "file_extension": ".py",
   "mimetype": "text/x-python",
   "name": "python",
   "nbconvert_exporter": "python",
   "pygments_lexer": "ipython3",
   "version": "3.11.9"
  }
 },
 "nbformat": 4,
 "nbformat_minor": 2
}
