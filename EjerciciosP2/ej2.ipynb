{
 "cells": [
  {
   "cell_type": "code",
   "execution_count": 1,
   "metadata": {},
   "outputs": [],
   "source": [
    "import numpy as np\n",
    "from scipy.stats import norm"
   ]
  },
  {
   "cell_type": "code",
   "execution_count": 2,
   "metadata": {},
   "outputs": [],
   "source": [
    "# Valores y probabilidades para X1\n",
    "x1_values = np.array([2, 3, 7])\n",
    "p1 = np.array([1/3, 1/3, 1/3])\n"
   ]
  },
  {
   "cell_type": "code",
   "execution_count": 3,
   "metadata": {},
   "outputs": [],
   "source": [
    "# Valores y probabilidades para X2 (asumiendo valores 1 y 3 con probabilidades 2/3 y 1/3)\n",
    "x2_values = np.array([1, 3])\n",
    "p2 = np.array([2/3, 1/3])"
   ]
  },
  {
   "cell_type": "code",
   "execution_count": 4,
   "metadata": {},
   "outputs": [],
   "source": [
    "# Tamaños de muestra\n",
    "n1 = 125\n",
    "n2 = 100"
   ]
  },
  {
   "cell_type": "code",
   "execution_count": 5,
   "metadata": {},
   "outputs": [],
   "source": [
    "# Media y varianza de X1\n",
    "mean_x1 = np.sum(x1_values * p1)\n",
    "var_x1 = np.sum((x1_values - mean_x1)**2 * p1)"
   ]
  },
  {
   "cell_type": "code",
   "execution_count": 6,
   "metadata": {},
   "outputs": [],
   "source": [
    "# Media y varianza de X2\n",
    "mean_x2 = np.sum(x2_values * p2)\n",
    "var_x2 = np.sum((x2_values - mean_x2)**2 * p2)"
   ]
  },
  {
   "cell_type": "code",
   "execution_count": 7,
   "metadata": {},
   "outputs": [],
   "source": [
    "# Media y varianza de la diferencia de medias muestrales\n",
    "mean_diff = mean_x1 - mean_x2\n",
    "var_diff = var_x1 / n1 + var_x2 / n2\n",
    "std_diff = np.sqrt(var_diff)"
   ]
  },
  {
   "cell_type": "code",
   "execution_count": 8,
   "metadata": {},
   "outputs": [],
   "source": [
    "# Probabilidad de que X̄1 - X̄2 > 1.84\n",
    "z = (1.84 - mean_diff) / std_diff\n",
    "prob = 1 - norm.cdf(z)"
   ]
  },
  {
   "cell_type": "code",
   "execution_count": 9,
   "metadata": {},
   "outputs": [
    {
     "name": "stdout",
     "output_type": "stream",
     "text": [
      "Media X1: 4.0000\n",
      "Varianza X1: 4.6667\n",
      "Media X2: 1.6667\n",
      "Varianza X2: 0.8889\n",
      "Media de la diferencia: 2.3333\n",
      "Desviación estándar de la diferencia: 0.2150\n",
      "Z: -2.2946\n",
      "Probabilidad de que X̄1 - X̄2 > 1.84: 0.9891\n"
     ]
    }
   ],
   "source": [
    "print(f\"Media X1: {mean_x1:.4f}\")\n",
    "print(f\"Varianza X1: {var_x1:.4f}\")\n",
    "print(f\"Media X2: {mean_x2:.4f}\")\n",
    "print(f\"Varianza X2: {var_x2:.4f}\")\n",
    "print(f\"Media de la diferencia: {mean_diff:.4f}\")\n",
    "print(f\"Desviación estándar de la diferencia: {std_diff:.4f}\")\n",
    "print(f\"Z: {z:.4f}\")\n",
    "print(f\"Probabilidad de que X̄1 - X̄2 > 1.84: {prob:.4f}\")"
   ]
  },
  {
   "cell_type": "code",
   "execution_count": null,
   "metadata": {},
   "outputs": [],
   "source": []
  }
 ],
 "metadata": {
  "kernelspec": {
   "display_name": "AWS",
   "language": "python",
   "name": "python3"
  },
  "language_info": {
   "codemirror_mode": {
    "name": "ipython",
    "version": 3
   },
   "file_extension": ".py",
   "mimetype": "text/x-python",
   "name": "python",
   "nbconvert_exporter": "python",
   "pygments_lexer": "ipython3",
   "version": "3.11.9"
  }
 },
 "nbformat": 4,
 "nbformat_minor": 2
}
