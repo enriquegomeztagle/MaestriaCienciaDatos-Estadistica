{
 "cells": [
  {
   "cell_type": "code",
   "execution_count": null,
   "metadata": {
    "colab": {
     "base_uri": "https://localhost:8080/"
    },
    "executionInfo": {
     "elapsed": 44447,
     "status": "ok",
     "timestamp": 1744254707145,
     "user": {
      "displayName": "Enrique Ulises Báez Gómez Tagle",
      "userId": "07700873673856520178"
     },
     "user_tz": 360
    },
    "id": "l3rKSiPGrC_w",
    "outputId": "37af5582-a99f-4832-bbe9-6096c8423cbd"
   },
   "outputs": [
    {
     "name": "stderr",
     "output_type": "stream",
     "text": [
      "\u001b[32m\u001b[1m   Resolving\u001b[22m\u001b[39m package versions...\n",
      "\u001b[32m\u001b[1m  No Changes\u001b[22m\u001b[39m to `~/.julia/environments/v1.10/Project.toml`\n",
      "\u001b[32m\u001b[1m  No Changes\u001b[22m\u001b[39m to `~/.julia/environments/v1.10/Manifest.toml`\n",
      "\u001b[32m\u001b[1m   Resolving\u001b[22m\u001b[39m package versions...\n",
      "\u001b[32m\u001b[1m   Installed\u001b[22m\u001b[39m Accessors ──────── v0.1.42\n",
      "\u001b[32m\u001b[1m   Installed\u001b[22m\u001b[39m Combinatorics ──── v1.0.2\n",
      "\u001b[32m\u001b[1m   Installed\u001b[22m\u001b[39m CompositionsBase ─ v0.1.2\n",
      "\u001b[32m\u001b[1m   Installed\u001b[22m\u001b[39m CommonSolve ────── v0.2.4\n",
      "\u001b[32m\u001b[1m   Installed\u001b[22m\u001b[39m HypothesisTests ── v0.11.5\n",
      "\u001b[32m\u001b[1m   Installed\u001b[22m\u001b[39m Roots ──────────── v2.2.7\n",
      "\u001b[32m\u001b[1m    Updating\u001b[22m\u001b[39m `~/.julia/environments/v1.10/Project.toml`\n",
      "  \u001b[90m[09f84164] \u001b[39m\u001b[92m+ HypothesisTests v0.11.5\u001b[39m\n",
      "\u001b[32m\u001b[1m    Updating\u001b[22m\u001b[39m `~/.julia/environments/v1.10/Manifest.toml`\n",
      "  \u001b[90m[7d9f7c33] \u001b[39m\u001b[92m+ Accessors v0.1.42\u001b[39m\n",
      "  \u001b[90m[861a8166] \u001b[39m\u001b[92m+ Combinatorics v1.0.2\u001b[39m\n",
      "  \u001b[90m[38540f10] \u001b[39m\u001b[92m+ CommonSolve v0.2.4\u001b[39m\n",
      "  \u001b[90m[a33af91c] \u001b[39m\u001b[92m+ CompositionsBase v0.1.2\u001b[39m\n",
      "  \u001b[90m[09f84164] \u001b[39m\u001b[92m+ HypothesisTests v0.11.5\u001b[39m\n",
      "  \u001b[90m[f2b01f46] \u001b[39m\u001b[92m+ Roots v2.2.7\u001b[39m\n",
      "\u001b[32m\u001b[1mPrecompiling\u001b[22m\u001b[39m packages...\n",
      "   1567.3 ms\u001b[32m  ✓ \u001b[39m\u001b[90mCommonSolve\u001b[39m\n",
      "   1577.7 ms\u001b[32m  ✓ \u001b[39m\u001b[90mCompositionsBase\u001b[39m\n",
      "   2516.9 ms\u001b[32m  ✓ \u001b[39m\u001b[90mCombinatorics\u001b[39m\n",
      "    645.4 ms\u001b[32m  ✓ \u001b[39m\u001b[90mCompositionsBase → CompositionsBaseInverseFunctionsExt\u001b[39m\n",
      "   2993.5 ms\u001b[32m  ✓ \u001b[39m\u001b[90mAccessors\u001b[39m\n",
      "    942.2 ms\u001b[32m  ✓ \u001b[39m\u001b[90mAccessors → LinearAlgebraExt\u001b[39m\n",
      "   1877.1 ms\u001b[32m  ✓ \u001b[39m\u001b[90mAccessors → IntervalSetsExt\u001b[39m\n",
      "   1965.6 ms\u001b[32m  ✓ \u001b[39m\u001b[90mAccessors → StructArraysExt\u001b[39m\n",
      "   2134.3 ms\u001b[32m  ✓ \u001b[39m\u001b[90mAccessors → TestExt\u001b[39m\n",
      "   2009.6 ms\u001b[32m  ✓ \u001b[39m\u001b[90mAccessors → StaticArraysExt\u001b[39m\n",
      "   2100.8 ms\u001b[32m  ✓ \u001b[39m\u001b[90mAccessors → UnitfulExt\u001b[39m\n",
      "   5095.3 ms\u001b[32m  ✓ \u001b[39m\u001b[90mRoots\u001b[39m\n",
      "   1367.0 ms\u001b[32m  ✓ \u001b[39m\u001b[90mRoots → RootsChainRulesCoreExt\u001b[39m\n",
      "   1541.5 ms\u001b[32m  ✓ \u001b[39m\u001b[90mRoots → RootsForwardDiffExt\u001b[39m\n",
      "   3199.0 ms\u001b[32m  ✓ \u001b[39mHypothesisTests\n",
      "  15 dependencies successfully precompiled in 18 seconds. 459 already precompiled.\n"
     ]
    }
   ],
   "source": [
    "import Pkg\n",
    "Pkg.add(\"Distributions\")\n",
    "Pkg.add(\"HypothesisTests\")"
   ]
  },
  {
   "cell_type": "code",
   "execution_count": null,
   "metadata": {
    "colab": {
     "base_uri": "https://localhost:8080/"
    },
    "executionInfo": {
     "elapsed": 619,
     "status": "ok",
     "timestamp": 1744254596338,
     "user": {
      "displayName": "Enrique Ulises Báez Gómez Tagle",
      "userId": "07700873673856520178"
     },
     "user_tz": 360
    },
    "id": "NxB31xdVqdVi",
    "outputId": "6320b8e5-051d-46df-d02f-6663dad0fe65"
   },
   "outputs": [
    {
     "name": "stdout",
     "output_type": "stream",
     "text": [
      "Estadístico Z: 0.8014\n",
      "Valor-p: 0.4229\n",
      "No se rechaza la hipótesis nula. No hay suficiente evidencia para decir que la media es diferente de 16 onzas.\n"
     ]
    }
   ],
   "source": [
    "using Statistics, Distributions\n",
    "\n",
    "# Datos\n",
    "media_poblacional = 16\n",
    "media_muestral = 16.017\n",
    "sigma = 0.15\n",
    "n = 50\n",
    "alpha = 0.05\n",
    "\n",
    "# Estadístico Z\n",
    "z = (media_muestral - media_poblacional) / (sigma / sqrt(n))\n",
    "\n",
    "# Valor-p para prueba bilateral\n",
    "p_value = 2 * (1 - cdf(Normal(0,1), abs(z)))\n",
    "\n",
    "# Resultado\n",
    "println(\"Estadístico Z: \", round(z, digits=4))\n",
    "println(\"Valor-p: \", round(p_value, digits=4))\n",
    "\n",
    "# Conclusión\n",
    "if p_value < alpha\n",
    "    println(\"Se rechaza la hipótesis nula. La evidencia sugiere que la media es diferente de 16 onzas.\")\n",
    "else\n",
    "    println(\"No se rechaza la hipótesis nula. No hay suficiente evidencia para decir que la media es diferente de 16 onzas.\")\n",
    "end"
   ]
  },
  {
   "cell_type": "code",
   "execution_count": null,
   "metadata": {
    "colab": {
     "base_uri": "https://localhost:8080/"
    },
    "executionInfo": {
     "elapsed": 43,
     "status": "ok",
     "timestamp": 1744254976729,
     "user": {
      "displayName": "Enrique Ulises Báez Gómez Tagle",
      "userId": "07700873673856520178"
     },
     "user_tz": 360
    },
    "id": "7UOlzQI9qk-U",
    "outputId": "95bb0a1b-8368-40d6-ed58-209774db37a4"
   },
   "outputs": [
    {
     "name": "stdout",
     "output_type": "stream",
     "text": [
      "Estadístico t: 2.8178\n",
      "Valor-p (unilateral): 0.0084\n",
      "Se rechaza la hipótesis nula. La media es significativamente mayor a 15 minutos.\n"
     ]
    }
   ],
   "source": [
    "using Statistics, HypothesisTests\n",
    "\n",
    "# Datos\n",
    "datos = [30, 24, 28, 22, 14, 2, 39, 23, 23, 28, 12, 31]\n",
    "mu_hipotetica = 15\n",
    "alpha = 0.05\n",
    "\n",
    "# Prueba t bilateral\n",
    "test = OneSampleTTest(datos, mu_hipotetica)\n",
    "\n",
    "# Obtener estadístico t\n",
    "t_stat = test.t\n",
    "\n",
    "# Valor-p unilateral (cola derecha)\n",
    "p_value = 1 - cdf(TDist(length(datos) - 1), t_stat)\n",
    "\n",
    "# Resultados\n",
    "println(\"Estadístico t: \", round(t_stat, digits=4))\n",
    "println(\"Valor-p (unilateral): \", round(p_value, digits=4))\n",
    "\n",
    "# Conclusión\n",
    "if p_value < alpha\n",
    "    println(\"Se rechaza la hipótesis nula. La media es significativamente mayor a 15 minutos.\")\n",
    "else\n",
    "    println(\"No se rechaza la hipótesis nula. No hay suficiente evidencia para decir que la media es mayor a 15 minutos.\")\n",
    "end"
   ]
  },
  {
   "cell_type": "code",
   "execution_count": null,
   "metadata": {
    "colab": {
     "base_uri": "https://localhost:8080/"
    },
    "executionInfo": {
     "elapsed": 4,
     "status": "ok",
     "timestamp": 1744255002575,
     "user": {
      "displayName": "Enrique Ulises Báez Gómez Tagle",
      "userId": "07700873673856520178"
     },
     "user_tz": 360
    },
    "id": "pLLxO4fprh4O",
    "outputId": "50419d59-8fc9-4cda-d8b7-ac6b98ed071c"
   },
   "outputs": [
    {
     "name": "stdout",
     "output_type": "stream",
     "text": [
      "Proporción muestral: 0.6417\n",
      "Estadístico Z: 2.043\n",
      "Valor-p: 0.0205\n",
      "Se rechaza H₀: hay evidencia suficiente para concluir que más del 60% se tropiezan.\n"
     ]
    }
   ],
   "source": [
    "using Distributions\n",
    "\n",
    "# Datos\n",
    "x = 369\n",
    "n = 575\n",
    "p0 = 0.60\n",
    "alpha = 0.04\n",
    "\n",
    "# Proporción muestral\n",
    "p_hat = x / n\n",
    "\n",
    "# Estadístico Z\n",
    "z = (p_hat - p0) / sqrt(p0 * (1 - p0) / n)\n",
    "\n",
    "# Valor-p (prueba unilateral derecha)\n",
    "p_value = 1 - cdf(Normal(0,1), z)\n",
    "\n",
    "# Resultados\n",
    "println(\"Proporción muestral: \", round(p_hat, digits=4))\n",
    "println(\"Estadístico Z: \", round(z, digits=4))\n",
    "println(\"Valor-p: \", round(p_value, digits=4))\n",
    "\n",
    "# Conclusión\n",
    "if p_value < alpha\n",
    "    println(\"Se rechaza H₀: hay evidencia suficiente para concluir que más del 60% se tropiezan.\")\n",
    "else\n",
    "    println(\"No se rechaza H₀: no hay evidencia suficiente para concluir que más del 60% se tropiezan.\")\n",
    "end"
   ]
  },
  {
   "cell_type": "code",
   "execution_count": null,
   "metadata": {
    "colab": {
     "base_uri": "https://localhost:8080/"
    },
    "executionInfo": {
     "elapsed": 30,
     "status": "ok",
     "timestamp": 1744254757093,
     "user": {
      "displayName": "Enrique Ulises Báez Gómez Tagle",
      "userId": "07700873673856520178"
     },
     "user_tz": 360
    },
    "id": "CBjXZMn3r0bj",
    "outputId": "2bdfb9dd-ac4b-48f7-dcdb-0793de78b1e1"
   },
   "outputs": [
    {
     "name": "stdout",
     "output_type": "stream",
     "text": [
      "Se necesitan al menos 1696.0 personas para una precisión de ±0.03 con 99% de confianza.\n"
     ]
    }
   ],
   "source": [
    "using Statistics\n",
    "\n",
    "# Parámetros\n",
    "z = 2.576  # para 99% de confianza\n",
    "p_hat = x / n\n",
    "E = 0.03\n",
    "\n",
    "# Tamaño de muestra necesario\n",
    "n_requerido = (z^2 * p_hat * (1 - p_hat)) / (E^2)\n",
    "println(\"Se necesitan al menos \", ceil(n_requerido), \" personas para una precisión de ±0.03 con 99% de confianza.\")"
   ]
  },
  {
   "cell_type": "code",
   "execution_count": null,
   "metadata": {
    "id": "sJ84Y7GPr2hC"
   },
   "outputs": [],
   "source": []
  }
 ],
 "metadata": {
  "colab": {
   "authorship_tag": "ABX9TyOutx4gJnkYjC7UCLXx5yJy",
   "provenance": []
  },
  "kernelspec": {
   "display_name": "Julia",
   "name": "julia"
  },
  "language_info": {
   "name": "julia"
  }
 },
 "nbformat": 4,
 "nbformat_minor": 0
}
